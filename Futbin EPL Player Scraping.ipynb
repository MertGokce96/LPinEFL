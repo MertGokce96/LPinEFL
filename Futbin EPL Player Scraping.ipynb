{
 "cells": [
  {
   "cell_type": "code",
   "execution_count": 48,
   "metadata": {},
   "outputs": [],
   "source": [
    "import numpy as np\n",
    "import pandas as pd\n",
    "import requests\n",
    "import bs4\n",
    "import time"
   ]
  },
  {
   "cell_type": "code",
   "execution_count": 49,
   "metadata": {},
   "outputs": [
    {
     "name": "stdout",
     "output_type": "stream",
     "text": [
      "https://www.futbin.com/20/players?page=1&league=13&version=gold\n"
     ]
    }
   ],
   "source": [
    "url_start = \"https://www.futbin.com/20/players?page=\"\n",
    "url_end = \"&league=13&version=gold\"\n",
    "\n",
    "print(url_start+str(1)+url_end)"
   ]
  },
  {
   "cell_type": "code",
   "execution_count": 50,
   "metadata": {},
   "outputs": [
    {
     "data": {
      "text/plain": [
       "105"
      ]
     },
     "execution_count": 50,
     "metadata": {},
     "output_type": "execute_result"
    }
   ],
   "source": [
    "#csv file created \n",
    "\n",
    "file_name = \"epl_players_data.csv\"\n",
    "f = open(file_name,\"w\",encoding=\"utf-8\")\n",
    "\n",
    "headers = \"Player_Name,Rating,Position,Type,Price,Skill,WF_Skill,Pace,Shooting,Passing,Dribling,Defence,Physicality\"\n",
    "f.write(headers+\"\\n\")"
   ]
  },
  {
   "cell_type": "code",
   "execution_count": 51,
   "metadata": {},
   "outputs": [
    {
     "name": "stdout",
     "output_type": "stream",
     "text": [
      "https://www.futbin.com/20/players?page=1&league=13&version=gold\n",
      "https://www.futbin.com/20/players?page=2&league=13&version=gold\n",
      "https://www.futbin.com/20/players?page=3&league=13&version=gold\n",
      "https://www.futbin.com/20/players?page=4&league=13&version=gold\n",
      "https://www.futbin.com/20/players?page=5&league=13&version=gold\n",
      "https://www.futbin.com/20/players?page=6&league=13&version=gold\n",
      "https://www.futbin.com/20/players?page=7&league=13&version=gold\n",
      "https://www.futbin.com/20/players?page=8&league=13&version=gold\n",
      "https://www.futbin.com/20/players?page=9&league=13&version=gold\n",
      "https://www.futbin.com/20/players?page=10&league=13&version=gold\n",
      "https://www.futbin.com/20/players?page=11&league=13&version=gold\n",
      "https://www.futbin.com/20/players?page=12&league=13&version=gold\n"
     ]
    }
   ],
   "source": [
    "#There are 13 Futbin pages for Premiere League Players.\n",
    "\n",
    "for i in range(1,13):\n",
    "    \n",
    "    #url created\n",
    "    url = url_start+str(i)+url_end\n",
    "    \n",
    "    print(url)\n",
    "    \n",
    "    #page requested\n",
    "    res = requests.get(url)\n",
    "    \n",
    "    #BS4 object created\n",
    "    soup = bs4.BeautifulSoup(res.text,\"html.parser\")\n",
    "    \n",
    "    #request terminated\n",
    "    res.close()    \n",
    "    \n",
    "    \n",
    "    #The table where players data are located\n",
    "    table = soup.find_all(\"tbody\")\n",
    "    \n",
    "    #players array created\n",
    "    players = table[2].find_all(\"tr\")\n",
    "    \n",
    "    for j in players:\n",
    "        data = j.find_all(\"td\")\n",
    "        \n",
    "        name = data[0].a.text.strip()\n",
    "        rating = data[1].text.strip()\n",
    "        position = data[2].text.strip()\n",
    "        player_type = data[3].text.strip()\n",
    "        \n",
    "        price = data[4].text.strip()\n",
    "        price = price[:-1]\n",
    "        \n",
    "        skill_star = data[5].text.strip()\n",
    "        wf_skill_star = data[6].text.strip()\n",
    "        \n",
    "        pace = data[8].text.strip()\n",
    "        shooting = data[9].text.strip()\n",
    "        passing = data[10].text.strip()\n",
    "        dribling = data[11].text.strip()\n",
    "        defence = data[12].text.strip()\n",
    "        physicality = data[13].text.strip()\n",
    "        \n",
    "        \n",
    "        f.write(name+\",\"+\n",
    "                rating+\",\"+\n",
    "                position+\",\"+\n",
    "                player_type+\",\"+\n",
    "                price+\",\"+\n",
    "                skill_star+\",\"+\n",
    "                wf_skill_star+\",\"+\n",
    "                pace+\",\"+\n",
    "                shooting+\",\"+\n",
    "                passing+\",\"+\n",
    "                dribling+\",\"+\n",
    "                defence+\",\"+\n",
    "                physicality+\"\\n\")\n",
    "\n",
    "time.sleep(3)  "
   ]
  },
  {
   "cell_type": "code",
   "execution_count": 52,
   "metadata": {},
   "outputs": [],
   "source": [
    "f.close()"
   ]
  }
 ],
 "metadata": {
  "kernelspec": {
   "display_name": "Python 3",
   "language": "python",
   "name": "python3"
  },
  "language_info": {
   "codemirror_mode": {
    "name": "ipython",
    "version": 3
   },
   "file_extension": ".py",
   "mimetype": "text/x-python",
   "name": "python",
   "nbconvert_exporter": "python",
   "pygments_lexer": "ipython3",
   "version": "3.7.3"
  }
 },
 "nbformat": 4,
 "nbformat_minor": 2
}
